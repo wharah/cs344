{
 "cells": [
  {
   "cell_type": "markdown",
   "metadata": {
    "collapsed": true,
    "pycharm": {
     "name": "#%% md\n"
    }
   },
   "source": [
    "## Proposal Update\n",
    "#### By: Sarah Whitten, CS 344 at Calvin University"
   ]
  },
  {
   "cell_type": "markdown",
   "source": [
    "__Vision:__ My vision is to create a convolutional neural network that will accurately identify difference bird\n",
    "species. This is not what I originally wanted to do but I was unable to find suitable data for astronomy that was\n",
    "already pretagged. This project is still interesting to me, though, because if I ever take a picture of one of these\n",
    "birds and didn't know what was, I could run it through this program and find out. This would be very helpful for me\n",
    "because I know very little about birds but I want to know. Earlier this semester I bought bird seed and like watching\n",
    "birds come to eat it but I never know what species they are!"
   ],
   "metadata": {
    "collapsed": false,
    "pycharm": {
     "name": "#%% md\n"
    }
   }
  },
  {
   "cell_type": "markdown",
   "source": [
    "__Background:__ In this project I am creating a CNN that takes in 27,503 training images, 1,000 testing images, and\n",
    "1,000 validation images. Since I am using images from my own directory I will use keras' flow_from_directory() function\n",
    "to create usable datasets. I have tried to use Conv2D and MaxPooling to get good accuracy with my image recognition but\n",
    "I have had no such luck.\n",
    "\n",
    "This was extremely frustrating because I stayed up all night trying to get different datasets to work but nothing was\n",
    "successful. Email correspondence with Professor Vander Linden:\n",
    "https://www.dropbox.com/s/k9k5a7aeugwotw4/EmailCorrespondence.pdf?dl=0"
   ],
   "metadata": {
    "collapsed": false,
    "pycharm": {
     "name": "#%% md\n"
    }
   }
  },
  {
   "cell_type": "markdown",
   "source": [
    "__Implementation:__ For this implementation I have tried to build a learner from the ground up using one of these\n",
    "examples of convolutional neural networks laid out here:\n",
    "https://www.analyticsvidhya.com/blog/2017/08/10-advanced-deep-learning-architectures-data-scientists/. The architecture\n",
    "that I experimented with the most was the AlexNet architecture. However I never could get it to work bceause I kept\n",
    "getting errors that I didn't know how to get to the root of. Because of this, I decided to go back to Chollet's example\n",
    "code for making CNNs with small datasets:\n",
    "https://github.com/fchollet/deep-learning-with-python-notebooks/blob/master/5.2-using-convnets-with-small-datasets.ipynb."
   ],
   "metadata": {
    "collapsed": false,
    "pycharm": {
     "name": "#%% md\n"
    }
   }
  },
  {
   "cell_type": "markdown",
   "source": [
    "__Implications:__ If I can get this code to work for my whole catelog of ~200 bird species, it would be very beneficial\n",
    "for novice bird-watchers (like myself). If the bird-watcher sees a bird that they do not recognize, they can run a\n",
    "photo through this program to see what it is. Also, if I can get the architecture to recognize different birds\n",
    "accurately, I want to also try to move into astronomy by learning different astronomical objects to see if my program\n",
    "can recognize those as well.\n"
   ],
   "metadata": {
    "collapsed": false,
    "pycharm": {
     "name": "#%% md\n"
    }
   }
  }
 ],
 "metadata": {
  "kernelspec": {
   "name": "python3",
   "language": "python",
   "display_name": "Python 3"
  },
  "language_info": {
   "codemirror_mode": {
    "name": "ipython",
    "version": 2
   },
   "file_extension": ".py",
   "mimetype": "text/x-python",
   "name": "python",
   "nbconvert_exporter": "python",
   "pygments_lexer": "ipython2",
   "version": "2.7.6"
  }
 },
 "nbformat": 4,
 "nbformat_minor": 0
}
