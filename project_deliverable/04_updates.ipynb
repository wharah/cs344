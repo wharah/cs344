{
 "cells": [
  {
   "cell_type": "markdown",
   "source": [
    "## Updates Since Walkthrough\n",
    "#### By: Sarah Whitten, CS 344 at Calvin University"
   ],
   "metadata": {
    "collapsed": false,
    "pycharm": {
     "name": "#%% md\n"
    }
   }
  },
  {
   "cell_type": "markdown",
   "source": [
    "To make the architecture work with the full dataset of ~200 bird species, I automated the data input.\n",
    "I kept getting really, really low accuracy (~1%), so I also messed around with various hyper-parameters such as\n",
    "learning rate, number or epochs, and batch size. Nothing worked, though. I alsotried to modify the actual architecture\n",
    "that I got from Chollet chapter 5 but that didn't change anything either. Changing the final activation function from\n",
    "\"sigmoid\" to \"softmax\" did decrease the outrageously large loss that was happening initially with more than two categories."
   ],
   "metadata": {
    "collapsed": false,
    "pycharm": {
     "name": "#%% md\n"
    }
   }
  }
 ],
 "metadata": {
  "kernelspec": {
   "name": "python3",
   "language": "python",
   "display_name": "Python 3"
  },
  "language_info": {
   "codemirror_mode": {
    "name": "ipython",
    "version": 2
   },
   "file_extension": ".py",
   "mimetype": "text/x-python",
   "name": "python",
   "nbconvert_exporter": "python",
   "pygments_lexer": "ipython2",
   "version": "2.7.6"
  }
 },
 "nbformat": 4,
 "nbformat_minor": 0
}
