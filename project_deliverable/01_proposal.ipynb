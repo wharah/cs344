{
 "cells": [
  {
   "cell_type": "markdown",
   "metadata": {
    "collapsed": true,
    "pycharm": {
     "name": "#%% md\n"
    }
   },
   "source": [
    "## Proposal Draft\n",
    "#### By: Sarah Whitten, CS 344 at Calvin University"
   ]
  },
  {
   "cell_type": "markdown",
   "source": [
    "\n",
    "I plan to use tensorflow and keras to create a convolutional neural network that will recognize different types of\n",
    "birds. I have found a dataset online at kaggle.com. The images are already divided into folders that describe them as\n",
    "test, train, and validation. There are 27,503 training images, 1,000 test images, and 1,000 validation images. There\n",
    "are 200 bird species that are being trained on, so there are 5 test and validation images for each one.\n",
    "\n",
    "Here is the link to the kaggle dataset: https://www.kaggle.com/gpiosenka/100-bird-species\n",
    "\n",
    "This isn't _super_ interesting to me but I originally wanted to do something related to astronomy and couldn't find a\n",
    "single dataset that was already tagged. It could be useful for new birdwatchers who want to catch some birds on camera\n",
    "and identify them. I'm hoping that I'll be able to figure out a network that is fast and accurate."
   ],
   "metadata": {
    "collapsed": false,
    "pycharm": {
     "name": "#%% md\n"
    }
   }
  }
 ],
 "metadata": {
  "kernelspec": {
   "name": "python3",
   "language": "python",
   "display_name": "Python 3"
  },
  "language_info": {
   "codemirror_mode": {
    "name": "ipython",
    "version": 2
   },
   "file_extension": ".py",
   "mimetype": "text/x-python",
   "name": "python",
   "nbconvert_exporter": "python",
   "pygments_lexer": "ipython2",
   "version": "2.7.6"
  }
 },
 "nbformat": 4,
 "nbformat_minor": 0
}
