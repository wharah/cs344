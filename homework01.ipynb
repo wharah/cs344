{
 "cells": [
  {
   "cell_type": "markdown",
   "metadata": {
    "collapsed": true
   },
   "source": [
    "# Homework 1"
   ]
  },
  {
   "cell_type": "markdown",
   "metadata": {},
   "source": [
    "## 1.1 The earliest psychologists studied the human mind using introspection. Would this be a good way for researchers to gain insight into human cognitive processes for the purpose of modelling those processes?\n",
    "\n",
    "I think that introspection can be a good method of figuring out some ways that the mind stores and retrieves information, but I don't think that any algorithm will ever be able to come anywhere close to being as intricate and as complex as the human brain is. The human brain does more than just perform a series of actions. In my philosophy class last semester, we talked about act-based and agent based morality. Someone who lives a agent-based moral life doesn't just have a file cabinet full of different scenarios and their corresponding moral responses. Instead, doing the moral thing is simply second nature. They don't have to dig around and find what the \"correct\" response is. They can just do it.\n",
    "\n",
    "This is how I think of artificial intelligence. Many people think that there will be robots at some point that will have human emotion and feel and basically be human (just a programmed one). We talked about something similar in my Perspectives in Computing class. We were talking about how this one Christian programmer believes that the ethical thing to do is to build bots that will go into war instead of humans because they can be rational and ethical and aren't swayed by emotions. But how can a robot be able to make a decision like that? There are just so many factors and, sure, it will be safer for the people sending the robots because they won't be sending men into the line of fire, but I don't see how it will be good and successful in the long run.\n",
    "\n",
    "I think that introspection can help model ASPECTS of human cognitive processes, but I don't believe that it can ever come to the point where a computer can actually fully think and behave like a human does."
   ]
  },
  {
   "cell_type": "markdown",
   "metadata": {},
   "source": [
    "## 1.2 Implement a local search formulation of a Traveling Salesperson Problem and use the AIMA hill-climbing and simulated annealing implementations to solve it.\n",
    "\n",
    "State: a list that shows the path between connecting cities (ie. [city_1, city_2, city_3, city_4, city_5])\n",
    "\n",
    "Actions: a list of the index of the cities that are to be switched (ie. [index_city_3, index_city_2])"
   ]
  },
  {
   "cell_type": "code",
   "execution_count": 108,
   "metadata": {
    "pycharm": {
     "is_executing": false,
     "name": "#%%\n"
    }
   },
   "outputs": [
    {
     "name": "stdout",
     "text": [
      "\n",
      "Attempting Hill-Climbing:\n",
      "\n",
      "\tSolution: ['E', 'D', 'C', 'B', 'A']\n",
      "\n",
      "\tValue: -30\n",
      "\n",
      "\tGoal reached? False\n",
      "\n",
      "Attempting Simulated Annealing:\n",
      "\n",
      "\tSolution: ['D', 'A', 'C', 'B', 'E']\n",
      "\n",
      "\tValue: -20\n",
      "\n",
      "\tGoal reached? False\n"
     ],
     "output_type": "stream"
    }
   ],
   "source": [
    "'''\n",
    "This program implements a local search formulation of a Traveling Salesperson Problem for Homework 1 in CS-344.\n",
    "The problem is solved using hill-climbing and simulated annealing.\n",
    "The Traveling Salesperson world is defined as a connected, undirected graph.\n",
    "This allows the salesperson can go either way between cities).\n",
    "   \n",
    "Author: Sarah Whitten (smw42)\n",
    "Date: February 27, 2020\n",
    "Course: CS-344-A\n",
    "Assignment: Homework 1\n",
    "'''\n",
    "   \n",
    "import random\n",
    "from search import Problem, UndirectedGraph, hill_climbing, simulated_annealing, exp_schedule\n",
    "\n",
    "class TravelingSalesPerson(Problem):\n",
    "    \n",
    "    # initialize\n",
    "    def __init__(self, initial, graph):\n",
    "        self.initial = initial\n",
    "        self.graph = graph\n",
    "        \n",
    "    # swap cities in the route list\n",
    "    def actions(self, state):\n",
    "        r1 = random.randrange(0, len(state), 1)\n",
    "        r2 = random.randrange(0, len(state), 1)\n",
    "        actions = [[r1, r2]]\n",
    "        return actions\n",
    "    \n",
    "    # do the action on a COPY of the board\n",
    "    def result(self, state, action):\n",
    "        new_state = state[:]\n",
    "        temporary = new_state[action[0]]\n",
    "        new_state[action[0]] = new_state[action[1]]\n",
    "        new_state[action[1]] = temporary\n",
    "        return new_state\n",
    "    \n",
    "    # was every city visited?\n",
    "    def test_goal(self, state):\n",
    "        cities = self.graph.nodes()\n",
    "        for i in range(len(cities)):\n",
    "            if cities[i] not in state:\n",
    "                return False\n",
    "            elif state[0] != state[-1]:\n",
    "                return False\n",
    "            else:\n",
    "                return True\n",
    "    \n",
    "    # find value of the state from the cost of the path\n",
    "    def value(self, state):\n",
    "        cost = 0\n",
    "        for i in range(len(state) - 1):\n",
    "            if state[i] == state[i + 1]:\n",
    "                cost += 0\n",
    "            else:\n",
    "                cost += self.graph.get(state[i], state[i + 1])\n",
    "        # multiply it by -1 instead of having to rewrite everything to get the smallest\n",
    "        return cost * -1\n",
    "    \n",
    "# create world graph\n",
    "my_world = UndirectedGraph(dict(\n",
    "    A=dict(B=3, C=5, D=7, E=9),\n",
    "    B=dict(C=2, D=4, E=6),\n",
    "    C=dict(D=10, E=20),\n",
    "    D=dict(E=15)))\n",
    "\n",
    "# connect the route\n",
    "def connect(graph):\n",
    "    cities = graph.nodes()\n",
    "    for i in range(len(cities)):\n",
    "        for j in range(len(cities)):\n",
    "            if graph.get(cities[i], cities[j]) == None:\n",
    "                graph.connect(cities[i], cities[j])\n",
    "                \n",
    "my_route = ['E', 'D', 'C', 'B', 'A']\n",
    "connect(my_world)\n",
    "\n",
    "problem = TravelingSalesPerson(my_route, my_world)\n",
    "\n",
    "# solve the problem with hill-climbing\n",
    "hc_solution = hill_climbing(problem)\n",
    "print('\\nAttempting Hill-Climbing:')\n",
    "print('\\n\\tSolution: ' + str(hc_solution))\n",
    "print('\\n\\tValue: ' + str(problem.value(hc_solution)))\n",
    "print('\\n\\tGoal reached? ' + str(problem.test_goal(hc_solution)))\n",
    "\n",
    "# solve the problem with simulated annealing\n",
    "annealing = simulated_annealing(problem, exp_schedule(k=20, lam=0.005, limit=10000))\n",
    "print('\\nAttempting Simulated Annealing:')\n",
    "print('\\n\\tSolution: ' + str(annealing))\n",
    "print('\\n\\tValue: ' + str(problem.value(annealing)))\n",
    "print('\\n\\tGoal reached? ' + str(problem.test_goal(annealing)))"
   ]
  },
  {
   "cell_type": "markdown",
   "metadata": {},
   "source": [
    "The hill-climbing method consistently gives me a worse value than the simulated annealing method. However, sometimes the values are not too different. Also, simulated annealing consistently gives me a value of 20, whereas hill-climbing gives a value in the range of -20 to -30. Neither of the methods ever succeed in getting me to my goal state (even after running it a bazillion times). Maybe my_route was too far off of the actual best route for it to reach the goal state. I'm kind of disappointed and I'm not sure if it's not working because of my code or if it's from something else. (Also it's a pretty simple graph that I'm using, so maybe it would be different if things were more complex.)"
   ]
  },
  {
   "cell_type": "markdown",
   "metadata": {},
   "source": [
    "## 1.3 Formulate a course-scheduling domain and implement it using the AIMA constraint satisfaction framework.\n",
    "\n",
    "Variables: courses\n",
    "\n",
    "Values: class time, classroom, and faculty"
   ]
  },
  {
   "cell_type": "code",
   "execution_count": 115,
   "metadata": {
    "pycharm": {
     "is_executing": false
    }
   },
   "outputs": [
    {
     "name": "stdout",
     "text": [
      "At least one good schedule was found!\n",
      "{'CS108': ['Norman', 'MWF1030', 'SB382'], 'CS112': ['Adams', 'TTH1200', 'NH253'], 'CS212': ['Plantinga', 'MWF0900', 'NH253'], 'CS214': ['Plantinga', 'MWF1030', 'NH253'], 'CS344': ['VanderLinden', 'MWF1330', 'NH253'], 'CS384': ['Schuurman', 'TTH1200', 'SB382']}\n"
     ],
     "output_type": "stream"
    }
   ],
   "source": [
    "'''\n",
    "This program implements the constraint satisfaction problem to create a schedule constraint problem.\n",
    "   \n",
    "Author: Sarah Whitten (smw42)\n",
    "Date: February 27, 2020\n",
    "Course: CS-344-A\n",
    "Assignment: Homework 1\n",
    "'''\n",
    "\n",
    "from csp import CSP, min_conflicts, parse_neighbors\n",
    "\n",
    "def schedule():\n",
    "    \n",
    "    # create lists of courses, faculty, times, and rooms\n",
    "    courses = ['CS108', 'CS112', 'CS212', 'CS214', 'CS344', 'CS384']\n",
    "    faculty = ['Norman', 'Adams', 'Plantinga', 'VanderLinden', 'Schuurman']\n",
    "    times = ['MWF0900', 'MWF1030', 'TTH1200', 'MWF1330']\n",
    "    rooms = ['NH253', 'SB382']\n",
    "    \n",
    "    # 40 possible combinations because 5 * 4 * 2\n",
    "    combination = [0] * 40\n",
    "    i = 0\n",
    "    \n",
    "    # make every possible combination, which will later be checked against constraints\n",
    "    for x in range(len(faculty)):\n",
    "        for y in range(len(times)):\n",
    "            for z in range(len(rooms)):\n",
    "                combination[i] = [faculty[x], times[y], rooms[z]]\n",
    "                i += 1\n",
    "                \n",
    "    domains = {}\n",
    "    for course in courses:\n",
    "        domains[course] = combination\n",
    "        \n",
    "    neighbors = parse_neighbors(\"\"\"\n",
    "    CS108: CS112 CS212 CS214 CS344 CS384;\n",
    "    CS112: CS212 CS214 CS344 CS384;\n",
    "    CS212: CS214 CS344 CS384;\n",
    "    CS214: CS344 CS384;\n",
    "    CS344: CS384\"\"\")\n",
    "    \n",
    "    def constraints(A, a, B, b):\n",
    "        \n",
    "        # each course is only offered once in the semester\n",
    "        if A == B:\n",
    "            return False\n",
    "        # some courses can only be taught by certain professors\n",
    "        elif A == 'CS112' and a[0] != 'Adams':\n",
    "            return False\n",
    "        elif B == 'CS112' and b[0] != 'Adams':\n",
    "            return False\n",
    "        elif A == 'CS212' and a[0] != 'Plantinga':\n",
    "            return False\n",
    "        elif B == 'CS212' and b[0] != 'Plantinga':\n",
    "            return False\n",
    "        elif A == 'CS344' and a[0] != 'VanderLinden':\n",
    "            return False\n",
    "        elif B == 'CS344' and b[0] != 'VanderLinden':\n",
    "            return False\n",
    "        elif A == 'CS384' and a[0] != 'Schuurman':\n",
    "            return False\n",
    "        elif B == 'CS384' and b[0] != 'Schuurman':\n",
    "            return False\n",
    "        # the professor can only teach one class at a time\n",
    "        elif a[0] == b[0] and a[1] == b[1]:\n",
    "            return False\n",
    "        # only one class can be in a room at a time\n",
    "        elif a[1] == b[1] and a[2] == b[2]:\n",
    "            return False\n",
    "        # if none of these things occur, we have found a good schedule!\n",
    "        else:\n",
    "            return True\n",
    "        \n",
    "    return CSP(courses, domains, neighbors, constraints)\n",
    "\n",
    "result = min_conflicts(schedule(), max_steps=1000)\n",
    "\n",
    "if result is None:\n",
    "    print(\"No good schedule was found :(\")\n",
    "else:\n",
    "    print(\"At least one good schedule was found!\")\n",
    "    print(result)"
   ]
  }
 ],
 "metadata": {
  "kernelspec": {
   "display_name": "Python 3",
   "language": "python",
   "name": "python3"
  },
  "language_info": {
   "codemirror_mode": {
    "name": "ipython",
    "version": 3
   },
   "file_extension": ".py",
   "mimetype": "text/x-python",
   "name": "python",
   "nbconvert_exporter": "python",
   "pygments_lexer": "ipython3",
   "version": "3.6.6"
  },
  "pycharm": {
   "stem_cell": {
    "cell_type": "raw",
    "source": [],
    "metadata": {
     "collapsed": false
    }
   }
  }
 },
 "nbformat": 4,
 "nbformat_minor": 1
}