{
 "cells": [
  {
   "cell_type": "markdown",
   "metadata": {
    "collapsed": true
   },
   "source": [
    "# Homework 2"
   ]
  },
  {
   "cell_type": "markdown",
   "metadata": {},
   "source": [
    "## 2.1 Spam Filter"
   ]
  },
  {
   "cell_type": "code",
   "execution_count": null,
   "metadata": {},
   "outputs": [],
   "source": [
    "spam_corpus = [[\"I\", \"am\", \"spam\", \"spam\", \"I\", \"am\"], [\"I\", \"do\", \"not\",\"like\", \"that\", \"spamiam\"]]\n",
    "ham_corpus = [[\"do\", \"i\", \"like\", \"green\", \"eggs\", \"and\", \"ham\"], [\"i\", \"do\"]]\n",
    "\n",
    "def createWordList(emails):\n",
    "    wordList = []\n",
    "    for email in emails:\n",
    "        for word in email:\n",
    "            wordList.append(word)\n",
    "    return wordList\n",
    "\n",
    "def createDict(corpus):\n",
    "    result = dict()\n",
    "    for email in corpus:\n",
    "        for word in email:\n",
    "            if (word in result.keys()):\n",
    "                result[word] = result[word] + 1\n",
    "            else:\n",
    "                result[word] = 1\n",
    "    return result\n",
    "\n",
    "def wordSearch(ourDict, word):\n",
    "    if (word not in ourDict.keys()):\n",
    "        return 0\n",
    "    else:\n",
    "        return ourDict[word]\n",
    "\n",
    "# use Paul Graham's algorithm to find probability of email being spam\n",
    "def findSpamProbability(word):\n",
    "    totalReal = len(ham_corpus)\n",
    "    totalSpam = len(spam_corpus)\n",
    "    real = 2 * wordSearch(realDict, word)\n",
    "    spam = 2 * wordSearch(spamDict, word)\n",
    "    if (real + spam > 1):\n",
    "        result = 0\n",
    "        minSpam = min(1, spam / totalSpam)\n",
    "        minTotal = min(1, real / totalReal) + minSpam\n",
    "        percentageSpam = minSpam / minTotal\n",
    "        spamProbbability = min(0.99, percentageSpam)\n",
    "        result = max(0.01, spamProbability)\n",
    "    else:\n",
    "        result = 0\n",
    "    return result\n",
    "    \n",
    "# build probability hash table\n",
    "def createProbabilityHash(email):\n",
    "    result = {}\n",
    "    for word in email:\n",
    "        wordLower = word.lower()\n",
    "        result[word] = findSpamProbability(word)\n",
    "    return result\n",
    "\n",
    "realDict = createDict(ham_corpus)\n",
    "spamDict = createDict(spam_corpus)\n",
    "\n",
    "testEmail = createWordList(ham_corpus + spam_corpus)\n",
    "probabilityDict = createProbabilityHash(email)"
   ]
  },
  {
   "cell_type": "markdown",
   "metadata": {},
   "source": [
    "This is Bayesian probability because it takes into account the previous answer when calculating the probablities of the following cases. If each one was independent, it would not be Bayesian."
   ]
  },
  {
   "cell_type": "markdown",
   "metadata": {},
   "source": [
    "## 2.2 Lawn Care"
   ]
  },
  {
   "cell_type": "code",
   "execution_count": null,
   "metadata": {
    "pycharm": {
     "is_executing": false
    }
   },
   "outputs": [],
   "source": [
    "import sys\n",
    "sys.path.insert(0, '../tools/aima')\n",
    "from probability import BayesNet, enumeration_ask\n",
    "\n",
    "# utility variables\n",
    "T, F = True, False\n",
    "\n",
    "# a) implement the network using the AIMA Python tools\n",
    "grass = BayesNet([\n",
    "    ('Cloudy', '', 0.50),\n",
    "    ('Sprinkler', 'Cloudy', {T: 0.10, F: 0.50}),\n",
    "    ('Rain', 'Cloudy', {T: 0.80, F: 0.20}),\n",
    "    ('WetGrass', 'Sprinkler Rain', {(T, T): 0.99, (T, F): 0.90, (F, T): 0.90, (F, F): 0.00})\n",
    "])\n",
    "\n",
    "# b) there are 16 independent values in the full joint distribution of this domain because it \n",
    "# is 2 ^ (number of variables). in this case, we have 4 variables, and therefore there are 16 \n",
    "# independent values.\n",
    "\n",
    "# c) by looking at the bayesian network, we can see that there's only one completely \n",
    "# independent variable, and it's the Cloudy variable. it doesn't have any parent variables and \n",
    "# all of the other variables are dependent on it.\n",
    "\n",
    "# d) compute a bunch of things based on the network. work by hand will be at the end\n",
    "print('i)   P(Cloudy): ', enumeration_ask('Cloudy', dict(), grass).show_approx())\n",
    "print('ii)  P(Sprinkler | Cloudy): ', enumeration_ask('Sprinkler', dict(Cloudy=T), grass).show_approx())\n",
    "print('iii) P(Cloudy | Sprinkler && No Rain): ', enumeration_ask('Cloudy', dict(Sprinkler=T, Rain=F), grass).show_approx())\n",
    "print('iv)  P(Wet Grass | Cloudy && Sprinkler && Rain): ', enumeration_ask('WetGrass', dict(Cloudy=T, Sprinkler=T, Rain=T), grass).show_approx())\n",
    "print('v)   P(Cloudy | Dry Grass): ', enumeration_ask('Cloudy', dict(WetGrass=F), wetGrassNetwork).show_approx())\n",
    "\n",
    "# i)   P(Cloudy) = < P(Cloudy), P(Not Cloudy) >\n",
    "#                = < 0.50, 0.50 >\n",
    "# ii)  P(Sprinkler | Cloudy) = < P(Sprinkler | Cloudy), P(No Sprinkler | Cloudy) >\n",
    "#                            = < 0.10, 0.90 >\n",
    "# iii) P(Cloudy | Sprinkler && No Rain) = a < P(Cloudy | Sprinkler && No Rain), P(Not Cloudy | Sprinkler && No Rain) >\n",
    "#                                       = a < P(Cloudy) * P(Cloudy & Sprinkler) * P(Cloudy & No Rain), \n",
    "#                                             P(Not Cloudy) * P(Not Cloudy & Sprinkler) * P(Not Cloudy & No Rain) >\n",
    "#                                       = a < 0.50 * 0.10 * 0.20, 0.50 * 0.50 * 0.80 >\n",
    "#                                       = a < 0.01, 0.20 >\n",
    "#                                       = < 0.0476, 0.952 >\n",
    "# iv)  P(Wet Grass | Cloudy && Sprinkler && Rain) = a < P(Wet Grass | Cloudy && Sprinkler && Rain), \n",
    "#                                                       P(Dry Grass | Cloudy && Sprinkler && Rain) >\n",
    "#                                                 = a < P(Wet Grass & Cloudy & Sprinkler & Rain),\n",
    "#                                                       P(Dry Grass & Cloudy & Sprinkler & Rain) >\n",
    "#                                                 = a < 0.99 * 0.50 * 0.10 * 0.80, 0.01 * 0.50 * 0.10 * 0.80 >\n",
    "#                                                 = a < 0.0396, 0.0004 >\n",
    "#                                                 = < 0.99, 0.01 >\n",
    "# v)   P(Cloudy | Dry Grass) = a < P(Cloudy | Dry Grass), P(Not Cloudy, Dry Grass) >\n",
    "#                            = a < 0.50 * ((0.10 * 0.80 * 0.99) + (0.90 * 0.80 * 0.90) + (0.10 * 0.20 * 0.90)),\n",
    "#                                  (0.50 * 0.50 * 0.80) + (0.50 * (0.50 * 0.20 * 0.01) + (0.50 * 0.80 * 0.10) + \n",
    "#                                  (0.50 * 0.20 * 0.10)) >\n",
    "#                            = a < 0.3726, 0.2255 >\n",
    "#                            = < 0.639, 0.361 >"
   ]
  }
 ],
 "metadata": {
  "kernelspec": {
   "display_name": "Python 3",
   "language": "python",
   "name": "python3"
  },
  "language_info": {
   "codemirror_mode": {
    "name": "ipython",
    "version": 3
   },
   "file_extension": ".py",
   "mimetype": "text/x-python",
   "name": "python",
   "nbconvert_exporter": "python",
   "pygments_lexer": "ipython3",
   "version": "3.6.6"
  },
  "pycharm": {
   "stem_cell": {
    "cell_type": "raw",
    "source": [],
    "metadata": {
     "collapsed": false
    }
   }
  }
 },
 "nbformat": 4,
 "nbformat_minor": 1
}